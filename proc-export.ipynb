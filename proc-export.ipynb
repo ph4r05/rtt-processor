{
 "cells": [
  {
   "cell_type": "code",
   "execution_count": 1,
   "metadata": {
    "pycharm": {
     "name": "#%%\n"
    }
   },
   "outputs": [],
   "source": [
    "from rtt_tools import dump_data\n",
    "from rtt_tools.dump_data import *  # pussy died because of this wildcard import\n",
    "from rtt_tools.export import *\n",
    "\n",
    "logger = logging.getLogger(__name__)\n",
    "coloredlogs.CHROOT_FILES = []\n",
    "coloredlogs.install(level=logging.INFO, use_chroot=False)"
   ]
  },
  {
   "cell_type": "code",
   "execution_count": 2,
   "metadata": {
    "pycharm": {
     "name": "#%%\n"
    }
   },
   "outputs": [],
   "source": [
    "loader = dump_data.Loader()\n",
    "exporter = Exporter(loader)"
   ]
  },
  {
   "cell_type": "code",
   "execution_count": 3,
   "metadata": {
    "pycharm": {
     "name": "#%%\n"
    }
   },
   "outputs": [],
   "source": [
    "exp_id_list = [46]"
   ]
  },
  {
   "cell_type": "code",
   "execution_count": 4,
   "metadata": {
    "pycharm": {
     "name": "#%%\n"
    }
   },
   "outputs": [
    {
     "name": "stderr",
     "output_type": "stream",
     "text": [
      "2019-09-20 16:19:33 aura.fi.muni.cz rtt_tools.dump_data[46970] INFO Loading all experiments\n",
      "2019-09-20 16:19:35 aura.fi.muni.cz rtt_tools.dump_data[46970] INFO Number of all experiments: 0\n",
      "2019-09-20 16:19:35 aura.fi.muni.cz rtt_tools.dump_data[46970] INFO Loading all batteries, len: 0\n",
      "2019-09-20 16:19:35 aura.fi.muni.cz rtt_tools.dump_data[46970] INFO Loading all tests, len: 0\n",
      "2019-09-20 16:19:35 aura.fi.muni.cz rtt_tools.dump_data[46970] INFO Time finished: 1.922412633895874\n",
      "2019-09-20 16:19:35 aura.fi.muni.cz rtt_tools.dump_data[46970] INFO Num experiments: 0\n",
      "2019-09-20 16:19:35 aura.fi.muni.cz rtt_tools.dump_data[46970] INFO Num batteries: 0\n",
      "2019-09-20 16:19:35 aura.fi.muni.cz rtt_tools.dump_data[46970] INFO Num tests: 0\n",
      "2019-09-20 16:19:35 aura.fi.muni.cz rtt_tools.dump_data[46970] INFO Num stests: 0\n",
      "2019-09-20 16:19:35 aura.fi.muni.cz rtt_tools.dump_data[46970] INFO Queues: (0, 0, 0)\n",
      "2019-09-20 16:19:35 aura.fi.muni.cz rtt_tools.export[46970] INFO Processing the results\n",
      "2019-09-20 16:19:35 aura.fi.muni.cz rtt_tools.export[46970] INFO Exporting to the required data format\n",
      "2019-09-20 16:19:35 aura.fi.muni.cz rtt_tools.export[46970] INFO Dumping to json to: rtt-results-dump-46.json\n"
     ]
    },
    {
     "ename": "PermissionError",
     "evalue": "[Errno 13] Permission denied: '/tmp/rtt-results-dump-46.json'",
     "output_type": "error",
     "traceback": [
      "\u001b[0;31m---------------------------------------------------------------------------\u001b[0m",
      "\u001b[0;31mPermissionError\u001b[0m                           Traceback (most recent call last)",
      "\u001b[0;32m<ipython-input-4-f60739d90656>\u001b[0m in \u001b[0;36m<module>\u001b[0;34m\u001b[0m\n\u001b[1;32m      1\u001b[0m \u001b[0mexporter\u001b[0m\u001b[0;34m.\u001b[0m\u001b[0mload\u001b[0m\u001b[0;34m(\u001b[0m\u001b[0;34m{\u001b[0m\u001b[0;34m'no_pvals'\u001b[0m\u001b[0;34m:\u001b[0m\u001b[0;32mFalse\u001b[0m\u001b[0;34m,\u001b[0m \u001b[0;34m'only_pval_cnt'\u001b[0m\u001b[0;34m:\u001b[0m \u001b[0;32mFalse\u001b[0m\u001b[0;34m,\u001b[0m \u001b[0;34m'experiments'\u001b[0m\u001b[0;34m:\u001b[0m \u001b[0mexp_id_list\u001b[0m\u001b[0;34m}\u001b[0m\u001b[0;34m)\u001b[0m\u001b[0;34m\u001b[0m\u001b[0;34m\u001b[0m\u001b[0m\n\u001b[0;32m----> 2\u001b[0;31m \u001b[0mexporter\u001b[0m\u001b[0;34m.\u001b[0m\u001b[0mexport\u001b[0m\u001b[0;34m(\u001b[0m\u001b[0mbase_path\u001b[0m\u001b[0;34m=\u001b[0m\u001b[0;34m'/tmp'\u001b[0m\u001b[0;34m)\u001b[0m\u001b[0;34m\u001b[0m\u001b[0;34m\u001b[0m\u001b[0m\n\u001b[0m\u001b[1;32m      3\u001b[0m \u001b[0mprint\u001b[0m\u001b[0;34m(\u001b[0m\u001b[0mexporter\u001b[0m\u001b[0;34m.\u001b[0m\u001b[0mfname\u001b[0m\u001b[0;34m)\u001b[0m\u001b[0;34m\u001b[0m\u001b[0;34m\u001b[0m\u001b[0m\n",
      "\u001b[0;32m~/RTT/rtt_tools/export.py\u001b[0m in \u001b[0;36mexport\u001b[0;34m(self, base_path, fname)\u001b[0m\n\u001b[1;32m    270\u001b[0m         \u001b[0mself\u001b[0m\u001b[0;34m.\u001b[0m\u001b[0mfname\u001b[0m \u001b[0;34m=\u001b[0m \u001b[0mrpath\u001b[0m\u001b[0;34m\u001b[0m\u001b[0;34m\u001b[0m\u001b[0m\n\u001b[1;32m    271\u001b[0m \u001b[0;34m\u001b[0m\u001b[0m\n\u001b[0;32m--> 272\u001b[0;31m         \u001b[0mjson\u001b[0m\u001b[0;34m.\u001b[0m\u001b[0mdump\u001b[0m\u001b[0;34m(\u001b[0m\u001b[0mres\u001b[0m\u001b[0;34m,\u001b[0m \u001b[0mopen\u001b[0m\u001b[0;34m(\u001b[0m\u001b[0mrpath\u001b[0m\u001b[0;34m,\u001b[0m \u001b[0;34m'w+'\u001b[0m\u001b[0;34m)\u001b[0m\u001b[0;34m,\u001b[0m \u001b[0mindent\u001b[0m\u001b[0;34m=\u001b[0m\u001b[0;36m2\u001b[0m\u001b[0;34m)\u001b[0m\u001b[0;34m\u001b[0m\u001b[0;34m\u001b[0m\u001b[0m\n\u001b[0m\u001b[1;32m    273\u001b[0m \u001b[0;34m\u001b[0m\u001b[0m\n",
      "\u001b[0;31mPermissionError\u001b[0m: [Errno 13] Permission denied: '/tmp/rtt-results-dump-46.json'"
     ]
    }
   ],
   "source": [
    "exporter.load({'no_pvals':False, 'only_pval_cnt': False, 'experiments': exp_id_list})\n",
    "exporter.export(base_path='/tmp')\n",
    "print(exporter.fname)\n"
   ]
  },
  {
   "cell_type": "code",
   "execution_count": null,
   "metadata": {},
   "outputs": [],
   "source": []
  }
 ],
 "metadata": {
  "kernelspec": {
   "display_name": "Python 3",
   "language": "python",
   "name": "python3"
  },
  "language_info": {
   "codemirror_mode": {
    "name": "ipython",
    "version": 3
   },
   "file_extension": ".py",
   "mimetype": "text/x-python",
   "name": "python",
   "nbconvert_exporter": "python",
   "pygments_lexer": "ipython3",
   "version": "3.7.1"
  },
  "pycharm": {
   "stem_cell": {
    "cell_type": "raw",
    "metadata": {
     "collapsed": false
    },
    "source": []
   }
  }
 },
 "nbformat": 4,
 "nbformat_minor": 2
}
