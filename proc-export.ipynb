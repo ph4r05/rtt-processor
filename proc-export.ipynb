{
 "cells": [
  {
   "cell_type": "code",
   "execution_count": 1,
   "metadata": {
    "pycharm": {
     "name": "#%%\n"
    }
   },
   "outputs": [],
   "source": [
    "from rtt_tools import dump_data\n",
    "from rtt_tools.dump_data import *  # pussy died because of this wildcard import\n",
    "from rtt_tools.export import *\n",
    "\n",
    "logger = logging.getLogger(__name__)\n",
    "coloredlogs.CHROOT_FILES = []\n",
    "coloredlogs.install(level=logging.INFO, use_chroot=False)"
   ]
  },
  {
   "cell_type": "code",
   "execution_count": 2,
   "metadata": {
    "pycharm": {
     "name": "#%%\n"
    }
   },
   "outputs": [],
   "source": [
    "loader = dump_data.Loader()\n",
    "exporter = Exporter(loader)"
   ]
  },
  {
   "cell_type": "code",
   "execution_count": 3,
   "metadata": {
    "pycharm": {
     "name": "#%%\n"
    }
   },
   "outputs": [],
   "source": [
    "exp_id_list = [19,20,21]"
   ]
  },
  {
   "cell_type": "code",
   "execution_count": 4,
   "metadata": {
    "pycharm": {
     "name": "#%%\n"
    }
   },
   "outputs": [
    {
     "name": "stderr",
     "output_type": "stream",
     "text": [
      "2019-07-18 13:39:04 aura.fi.muni.cz rtt_tools.dump_data[140635] INFO Loading all experiments\n",
      "2019-07-18 13:39:05 aura.fi.muni.cz rtt_tools.dump_data[140635] INFO Number of all experiments: 644\n",
      "2019-07-18 13:39:05 aura.fi.muni.cz rtt_tools.dump_data[140635] INFO Loading all batteries, len: 644\n",
      "2019-07-18 13:39:05 aura.fi.muni.cz rtt_tools.dump_data[140635] INFO Loading all tests, len: 4508\n",
      "2019-07-18 13:39:05 aura.fi.muni.cz rtt_tools.dump_data[140635] INFO Loading all variants params, len: 1000\n",
      "2019-07-18 13:39:05 aura.fi.muni.cz rtt_tools.dump_data[140635] INFO Loading all variant params, len: 2000\n",
      "2019-07-18 13:39:05 aura.fi.muni.cz rtt_tools.dump_data[140635] INFO Loading all variants params, len: 1000\n",
      "2019-07-18 13:39:05 aura.fi.muni.cz rtt_tools.dump_data[140635] INFO Loading all variant params, len: 2000\n",
      "2019-07-18 13:39:05 aura.fi.muni.cz rtt_tools.dump_data[140635] INFO Loading all variants params, len: 1000\n",
      "2019-07-18 13:39:05 aura.fi.muni.cz rtt_tools.dump_data[140635] INFO Loading all variant params, len: 2000\n",
      "2019-07-18 13:39:05 aura.fi.muni.cz rtt_tools.dump_data[140635] INFO Loading all subtest params, len: 10000\n",
      "2019-07-18 13:39:06 aura.fi.muni.cz rtt_tools.dump_data[140635] INFO Loading all subtest pvalues, len: 10000\n",
      "2019-07-18 13:39:09 aura.fi.muni.cz rtt_tools.dump_data[140635] INFO Loading all subtest stats, len: 10000\n",
      "2019-07-18 13:39:09 aura.fi.muni.cz rtt_tools.dump_data[140635] INFO Loading all variants params, len: 1000\n",
      "2019-07-18 13:39:09 aura.fi.muni.cz rtt_tools.dump_data[140635] INFO Loading all variant params, len: 2000\n",
      "2019-07-18 13:39:09 aura.fi.muni.cz rtt_tools.dump_data[140635] INFO Loading all variants params, len: 1000\n",
      "2019-07-18 13:39:09 aura.fi.muni.cz rtt_tools.dump_data[140635] INFO Loading all variant params, len: 2000\n",
      "2019-07-18 13:39:10 aura.fi.muni.cz rtt_tools.dump_data[140635] INFO Loading all subtest params, len: 10000\n",
      "2019-07-18 13:39:10 aura.fi.muni.cz rtt_tools.dump_data[140635] INFO Loading all subtest pvalues, len: 10000\n",
      "2019-07-18 13:39:13 aura.fi.muni.cz rtt_tools.dump_data[140635] INFO Loading all subtest stats, len: 10000\n",
      "2019-07-18 13:39:13 aura.fi.muni.cz rtt_tools.dump_data[140635] INFO Loading all variants params, len: 1000\n",
      "2019-07-18 13:39:13 aura.fi.muni.cz rtt_tools.dump_data[140635] INFO Loading all variant params, len: 2000\n",
      "2019-07-18 13:39:13 aura.fi.muni.cz rtt_tools.dump_data[140635] INFO Loading all variant params, len: 2000\n",
      "2019-07-18 13:39:13 aura.fi.muni.cz rtt_tools.dump_data[140635] INFO Loading all subtest params, len: 10000\n",
      "2019-07-18 13:39:14 aura.fi.muni.cz rtt_tools.dump_data[140635] INFO Loading all subtest pvalues, len: 10000\n",
      "2019-07-18 13:39:16 aura.fi.muni.cz rtt_tools.dump_data[140635] INFO Loading all subtest stats, len: 10000\n",
      "2019-07-18 13:39:17 aura.fi.muni.cz rtt_tools.dump_data[140635] INFO Loading all variants params, len: 1000\n",
      "2019-07-18 13:39:17 aura.fi.muni.cz rtt_tools.dump_data[140635] INFO Loading all variant params, len: 2000\n",
      "2019-07-18 13:39:17 aura.fi.muni.cz rtt_tools.dump_data[140635] INFO Loading all variants params, len: 1000\n",
      "2019-07-18 13:39:17 aura.fi.muni.cz rtt_tools.dump_data[140635] INFO Loading all variant params, len: 2000\n",
      "2019-07-18 13:39:17 aura.fi.muni.cz rtt_tools.dump_data[140635] INFO Loading all subtest params, len: 10000\n",
      "2019-07-18 13:39:18 aura.fi.muni.cz rtt_tools.dump_data[140635] INFO Loading all subtest pvalues, len: 10000\n",
      "2019-07-18 13:39:30 aura.fi.muni.cz rtt_tools.dump_data[140635] INFO Loading all subtest stats, len: 10000\n",
      "2019-07-18 13:39:31 aura.fi.muni.cz rtt_tools.dump_data[140635] INFO Loading all variants params, len: 1000\n",
      "2019-07-18 13:39:32 aura.fi.muni.cz rtt_tools.dump_data[140635] INFO Loading all variant params, len: 2000\n",
      "2019-07-18 13:39:32 aura.fi.muni.cz rtt_tools.dump_data[140635] INFO Loading all variants params, len: 1000\n",
      "2019-07-18 13:39:32 aura.fi.muni.cz rtt_tools.dump_data[140635] INFO Loading all variant params, len: 2000\n",
      "2019-07-18 13:39:32 aura.fi.muni.cz rtt_tools.dump_data[140635] INFO Loading all subtest params, len: 10000\n",
      "2019-07-18 13:39:32 aura.fi.muni.cz rtt_tools.dump_data[140635] INFO Loading all subtest pvalues, len: 10000\n",
      "2019-07-18 13:39:57 aura.fi.muni.cz rtt_tools.dump_data[140635] INFO Loading all subtest stats, len: 10000\n",
      "2019-07-18 13:39:58 aura.fi.muni.cz rtt_tools.dump_data[140635] INFO Loading all variant params, len: 2000\n",
      "2019-07-18 13:39:58 aura.fi.muni.cz rtt_tools.dump_data[140635] INFO Loading all variants params, len: 1000\n",
      "2019-07-18 13:39:58 aura.fi.muni.cz rtt_tools.dump_data[140635] INFO Loading all variant params, len: 2000\n",
      "2019-07-18 13:39:58 aura.fi.muni.cz rtt_tools.dump_data[140635] INFO Loading all variants params, len: 1000\n",
      "2019-07-18 13:39:58 aura.fi.muni.cz rtt_tools.dump_data[140635] INFO Loading all variant params, len: 2000\n",
      "2019-07-18 13:39:58 aura.fi.muni.cz rtt_tools.dump_data[140635] INFO Loading all subtest params, len: 10000\n",
      "2019-07-18 13:39:58 aura.fi.muni.cz rtt_tools.dump_data[140635] INFO Loading all subtest pvalues, len: 10000\n",
      "2019-07-18 13:40:25 aura.fi.muni.cz rtt_tools.dump_data[140635] INFO Loading all subtest stats, len: 10000\n",
      "2019-07-18 13:40:26 aura.fi.muni.cz rtt_tools.dump_data[140635] INFO Loading all variants params, len: 1000\n",
      "2019-07-18 13:40:26 aura.fi.muni.cz rtt_tools.dump_data[140635] INFO Loading all variant params, len: 2000\n",
      "2019-07-18 13:40:26 aura.fi.muni.cz rtt_tools.dump_data[140635] INFO Loading all variant params, len: 2000\n",
      "2019-07-18 13:40:26 aura.fi.muni.cz rtt_tools.dump_data[140635] INFO Loading all subtest params, len: 10000\n",
      "2019-07-18 13:40:26 aura.fi.muni.cz rtt_tools.dump_data[140635] INFO Loading all subtest pvalues, len: 10000\n",
      "2019-07-18 13:40:49 aura.fi.muni.cz rtt_tools.dump_data[140635] INFO Loading all subtest stats, len: 10000\n",
      "2019-07-18 13:40:49 aura.fi.muni.cz rtt_tools.dump_data[140635] INFO Loading all variants params, len: 1000\n",
      "2019-07-18 13:40:49 aura.fi.muni.cz rtt_tools.dump_data[140635] INFO Loading all variant params, len: 2000\n",
      "2019-07-18 13:40:50 aura.fi.muni.cz rtt_tools.dump_data[140635] INFO Loading all variants params, len: 1000\n",
      "2019-07-18 13:40:50 aura.fi.muni.cz rtt_tools.dump_data[140635] INFO Loading all variant params, len: 2000\n",
      "2019-07-18 13:40:50 aura.fi.muni.cz rtt_tools.dump_data[140635] INFO Loading all subtest params, len: 10000\n",
      "2019-07-18 13:40:51 aura.fi.muni.cz rtt_tools.dump_data[140635] INFO Loading all subtest pvalues, len: 10000\n",
      "2019-07-18 13:41:11 aura.fi.muni.cz rtt_tools.dump_data[140635] INFO Loading all subtest stats, len: 10000\n",
      "2019-07-18 13:41:11 aura.fi.muni.cz rtt_tools.dump_data[140635] INFO Loading all variants params, len: 1000\n",
      "2019-07-18 13:41:11 aura.fi.muni.cz rtt_tools.dump_data[140635] INFO Loading all variant params, len: 2000\n",
      "2019-07-18 13:41:12 aura.fi.muni.cz rtt_tools.dump_data[140635] INFO Loading all variants params, len: 1000\n",
      "2019-07-18 13:41:12 aura.fi.muni.cz rtt_tools.dump_data[140635] INFO Loading all variant params, len: 2000\n",
      "2019-07-18 13:41:12 aura.fi.muni.cz rtt_tools.dump_data[140635] INFO Loading all subtest params, len: 10000\n",
      "2019-07-18 13:41:12 aura.fi.muni.cz rtt_tools.dump_data[140635] INFO Loading all subtest pvalues, len: 10000\n",
      "2019-07-18 13:41:15 aura.fi.muni.cz rtt_tools.dump_data[140635] INFO Loading all subtest stats, len: 10000\n",
      "2019-07-18 13:41:16 aura.fi.muni.cz rtt_tools.dump_data[140635] INFO Loading all variants params, len: 1000\n",
      "2019-07-18 13:41:16 aura.fi.muni.cz rtt_tools.dump_data[140635] INFO Loading all variant params, len: 2000\n",
      "2019-07-18 13:41:16 aura.fi.muni.cz rtt_tools.dump_data[140635] INFO Loading all variants params, len: 1000\n",
      "2019-07-18 13:41:16 aura.fi.muni.cz rtt_tools.dump_data[140635] INFO Loading all variant params, len: 2000\n",
      "2019-07-18 13:41:16 aura.fi.muni.cz rtt_tools.dump_data[140635] INFO Loading all subtest params, len: 10000\n",
      "2019-07-18 13:41:17 aura.fi.muni.cz rtt_tools.dump_data[140635] INFO Loading all subtest pvalues, len: 10000\n",
      "2019-07-18 13:41:19 aura.fi.muni.cz rtt_tools.dump_data[140635] INFO Loading all subtest stats, len: 10000\n",
      "2019-07-18 13:41:20 aura.fi.muni.cz rtt_tools.dump_data[140635] INFO Loading all variant params, len: 2000\n",
      "2019-07-18 13:41:21 aura.fi.muni.cz rtt_tools.dump_data[140635] INFO Loading all variants params, len: 1000\n"
     ]
    },
    {
     "name": "stderr",
     "output_type": "stream",
     "text": [
      "2019-07-18 13:41:21 aura.fi.muni.cz rtt_tools.dump_data[140635] INFO Loading all variant params, len: 2000\n",
      "2019-07-18 13:41:22 aura.fi.muni.cz rtt_tools.dump_data[140635] INFO Loading all variants params, len: 1000\n",
      "2019-07-18 13:41:22 aura.fi.muni.cz rtt_tools.dump_data[140635] INFO Loading all variant params, len: 2000\n",
      "2019-07-18 13:41:22 aura.fi.muni.cz rtt_tools.dump_data[140635] INFO Loading all subtest params, len: 10000\n",
      "2019-07-18 13:41:22 aura.fi.muni.cz rtt_tools.dump_data[140635] INFO Loading all subtest pvalues, len: 10000\n",
      "2019-07-18 13:41:25 aura.fi.muni.cz rtt_tools.dump_data[140635] INFO Loading all subtest stats, len: 10000\n",
      "2019-07-18 13:41:26 aura.fi.muni.cz rtt_tools.dump_data[140635] INFO Loading all variants params, len: 1000\n",
      "2019-07-18 13:41:26 aura.fi.muni.cz rtt_tools.dump_data[140635] INFO Loading all variant params, len: 2000\n",
      "2019-07-18 13:41:27 aura.fi.muni.cz rtt_tools.dump_data[140635] INFO Loading all variants params, len: 1000\n",
      "2019-07-18 13:41:27 aura.fi.muni.cz rtt_tools.dump_data[140635] INFO Loading all variant params, len: 2000\n",
      "2019-07-18 13:41:27 aura.fi.muni.cz rtt_tools.dump_data[140635] INFO Loading all subtest params, len: 10000\n",
      "2019-07-18 13:41:27 aura.fi.muni.cz rtt_tools.dump_data[140635] INFO Loading all subtest pvalues, len: 10000\n",
      "2019-07-18 13:41:47 aura.fi.muni.cz rtt_tools.dump_data[140635] INFO Loading all subtest stats, len: 10000\n",
      "2019-07-18 13:41:48 aura.fi.muni.cz rtt_tools.dump_data[140635] INFO Loading all variant params, len: 2000\n",
      "2019-07-18 13:41:48 aura.fi.muni.cz rtt_tools.dump_data[140635] INFO Loading all variants params, len: 1000\n",
      "2019-07-18 13:41:48 aura.fi.muni.cz rtt_tools.dump_data[140635] INFO Loading all variant params, len: 2000\n",
      "2019-07-18 13:41:48 aura.fi.muni.cz rtt_tools.dump_data[140635] INFO Loading all subtest params, len: 10000\n",
      "2019-07-18 13:41:49 aura.fi.muni.cz rtt_tools.dump_data[140635] INFO Loading all subtest pvalues, len: 10000\n",
      "2019-07-18 13:42:17 aura.fi.muni.cz rtt_tools.dump_data[140635] INFO Loading all subtest stats, len: 10000\n",
      "2019-07-18 13:42:18 aura.fi.muni.cz rtt_tools.dump_data[140635] INFO Loading all variants params, len: 1000\n",
      "2019-07-18 13:42:18 aura.fi.muni.cz rtt_tools.dump_data[140635] INFO Loading all variant params, len: 2000\n",
      "2019-07-18 13:42:20 aura.fi.muni.cz rtt_tools.dump_data[140635] INFO Loading all variants params, len: 1000\n",
      "2019-07-18 13:42:20 aura.fi.muni.cz rtt_tools.dump_data[140635] INFO Loading all variant params, len: 2000\n",
      "2019-07-18 13:42:20 aura.fi.muni.cz rtt_tools.dump_data[140635] INFO Loading all variant params, len: 2000\n",
      "2019-07-18 13:42:20 aura.fi.muni.cz rtt_tools.dump_data[140635] INFO Loading all subtest params, len: 10000\n",
      "2019-07-18 13:42:21 aura.fi.muni.cz rtt_tools.dump_data[140635] INFO Loading all subtest pvalues, len: 10000\n",
      "2019-07-18 13:42:41 aura.fi.muni.cz rtt_tools.dump_data[140635] INFO Loading all subtest stats, len: 10000\n",
      "2019-07-18 13:42:42 aura.fi.muni.cz rtt_tools.dump_data[140635] INFO Loading all variants params, len: 1000\n",
      "2019-07-18 13:42:42 aura.fi.muni.cz rtt_tools.dump_data[140635] INFO Loading all variant params, len: 2000\n",
      "2019-07-18 13:42:42 aura.fi.muni.cz rtt_tools.dump_data[140635] INFO Loading all variants params, len: 1000\n",
      "2019-07-18 13:42:42 aura.fi.muni.cz rtt_tools.dump_data[140635] INFO Loading all variant params, len: 2000\n",
      "2019-07-18 13:42:43 aura.fi.muni.cz rtt_tools.dump_data[140635] INFO Loading all subtest params, len: 10000\n",
      "2019-07-18 13:42:43 aura.fi.muni.cz rtt_tools.dump_data[140635] INFO Loading all subtest pvalues, len: 10000\n",
      "2019-07-18 13:43:08 aura.fi.muni.cz rtt_tools.dump_data[140635] INFO Loading all subtest stats, len: 10000\n",
      "2019-07-18 13:43:09 aura.fi.muni.cz rtt_tools.dump_data[140635] INFO Loading all variants params, len: 1000\n",
      "2019-07-18 13:43:09 aura.fi.muni.cz rtt_tools.dump_data[140635] INFO Loading all variant params, len: 2000\n",
      "2019-07-18 13:43:09 aura.fi.muni.cz rtt_tools.dump_data[140635] INFO Loading all variants params, len: 1000\n",
      "2019-07-18 13:43:09 aura.fi.muni.cz rtt_tools.dump_data[140635] INFO Loading all variant params, len: 2000\n",
      "2019-07-18 13:43:09 aura.fi.muni.cz rtt_tools.dump_data[140635] INFO Loading all subtest params, len: 10000\n",
      "2019-07-18 13:43:10 aura.fi.muni.cz rtt_tools.dump_data[140635] INFO Loading all subtest pvalues, len: 10000\n",
      "2019-07-18 13:43:18 aura.fi.muni.cz rtt_tools.dump_data[140635] INFO Loading all subtest stats, len: 10000\n",
      "2019-07-18 13:43:19 aura.fi.muni.cz rtt_tools.dump_data[140635] INFO Loading all variants params, len: 1000\n",
      "2019-07-18 13:43:19 aura.fi.muni.cz rtt_tools.dump_data[140635] INFO Loading all variant params, len: 2000\n",
      "2019-07-18 13:43:20 aura.fi.muni.cz rtt_tools.dump_data[140635] INFO Loading all variant params, len: 2000\n",
      "2019-07-18 13:43:20 aura.fi.muni.cz rtt_tools.dump_data[140635] INFO Loading all subtest params, len: 10000\n",
      "2019-07-18 13:43:21 aura.fi.muni.cz rtt_tools.dump_data[140635] INFO Loading all subtest pvalues, len: 10000\n",
      "2019-07-18 13:43:24 aura.fi.muni.cz rtt_tools.dump_data[140635] INFO Loading all subtest stats, len: 10000\n",
      "2019-07-18 13:43:24 aura.fi.muni.cz rtt_tools.dump_data[140635] INFO Loading all variants params, len: 1000\n",
      "2019-07-18 13:43:24 aura.fi.muni.cz rtt_tools.dump_data[140635] INFO Loading all variant params, len: 2000\n",
      "2019-07-18 13:43:24 aura.fi.muni.cz rtt_tools.dump_data[140635] INFO Loading all variants params, len: 1000\n",
      "2019-07-18 13:43:24 aura.fi.muni.cz rtt_tools.dump_data[140635] INFO Loading all variant params, len: 2000\n",
      "2019-07-18 13:43:25 aura.fi.muni.cz rtt_tools.dump_data[140635] INFO Loading all subtest params, len: 10000\n",
      "2019-07-18 13:43:25 aura.fi.muni.cz rtt_tools.dump_data[140635] INFO Loading all subtest pvalues, len: 10000\n",
      "2019-07-18 13:43:28 aura.fi.muni.cz rtt_tools.dump_data[140635] INFO Loading all subtest stats, len: 10000\n",
      "2019-07-18 13:43:29 aura.fi.muni.cz rtt_tools.dump_data[140635] INFO Loading all variants params, len: 1000\n",
      "2019-07-18 13:43:29 aura.fi.muni.cz rtt_tools.dump_data[140635] INFO Loading all variant params, len: 2000\n",
      "2019-07-18 13:43:29 aura.fi.muni.cz rtt_tools.dump_data[140635] INFO Loading all variants params, len: 1000\n",
      "2019-07-18 13:43:29 aura.fi.muni.cz rtt_tools.dump_data[140635] INFO Loading all variant params, len: 2000\n",
      "2019-07-18 13:43:29 aura.fi.muni.cz rtt_tools.dump_data[140635] INFO Loading all subtest params, len: 10000\n",
      "2019-07-18 13:43:29 aura.fi.muni.cz rtt_tools.dump_data[140635] INFO Loading all subtest pvalues, len: 10000\n",
      "2019-07-18 13:43:36 aura.fi.muni.cz rtt_tools.dump_data[140635] INFO Loading all subtest stats, len: 10000\n",
      "2019-07-18 13:43:36 aura.fi.muni.cz rtt_tools.dump_data[140635] INFO Loading all variants params, len: 1000\n",
      "2019-07-18 13:43:36 aura.fi.muni.cz rtt_tools.dump_data[140635] INFO Loading all variant params, len: 2000\n",
      "2019-07-18 13:43:36 aura.fi.muni.cz rtt_tools.dump_data[140635] INFO Loading all variant params, len: 2000\n",
      "2019-07-18 13:43:37 aura.fi.muni.cz rtt_tools.dump_data[140635] INFO Loading all variants params, len: 1000\n",
      "2019-07-18 13:43:37 aura.fi.muni.cz rtt_tools.dump_data[140635] INFO Loading all variant params, len: 2000\n",
      "2019-07-18 13:43:37 aura.fi.muni.cz rtt_tools.dump_data[140635] INFO Loading all subtest params, len: 10000\n",
      "2019-07-18 13:43:38 aura.fi.muni.cz rtt_tools.dump_data[140635] INFO Loading all subtest pvalues, len: 10000\n",
      "2019-07-18 13:44:00 aura.fi.muni.cz rtt_tools.dump_data[140635] INFO Loading all subtest stats, len: 10000\n",
      "2019-07-18 13:44:01 aura.fi.muni.cz rtt_tools.dump_data[140635] INFO Loading all variants params, len: 1000\n",
      "2019-07-18 13:44:01 aura.fi.muni.cz rtt_tools.dump_data[140635] INFO Loading all variant params, len: 2000\n",
      "2019-07-18 13:44:01 aura.fi.muni.cz rtt_tools.dump_data[140635] INFO Loading all variants params, len: 1000\n",
      "2019-07-18 13:44:01 aura.fi.muni.cz rtt_tools.dump_data[140635] INFO Loading all variant params, len: 2000\n",
      "2019-07-18 13:44:01 aura.fi.muni.cz rtt_tools.dump_data[140635] INFO Loading all subtest params, len: 10000\n",
      "2019-07-18 13:44:01 aura.fi.muni.cz rtt_tools.dump_data[140635] INFO Loading all subtest pvalues, len: 10000\n",
      "2019-07-18 13:44:26 aura.fi.muni.cz rtt_tools.dump_data[140635] INFO Loading all subtest stats, len: 10000\n",
      "2019-07-18 13:44:27 aura.fi.muni.cz rtt_tools.dump_data[140635] INFO Loading all variant params, len: 2000\n"
     ]
    },
    {
     "name": "stderr",
     "output_type": "stream",
     "text": [
      "2019-07-18 13:44:27 aura.fi.muni.cz rtt_tools.dump_data[140635] INFO Loading all variants params, len: 1000\n",
      "2019-07-18 13:44:27 aura.fi.muni.cz rtt_tools.dump_data[140635] INFO Loading all variant params, len: 2000\n",
      "2019-07-18 13:44:27 aura.fi.muni.cz rtt_tools.dump_data[140635] INFO Loading all subtest params, len: 10000\n",
      "2019-07-18 13:44:27 aura.fi.muni.cz rtt_tools.dump_data[140635] INFO Loading all subtest pvalues, len: 10000\n",
      "2019-07-18 13:44:50 aura.fi.muni.cz rtt_tools.dump_data[140635] INFO Loading all subtest stats, len: 10000\n",
      "2019-07-18 13:44:50 aura.fi.muni.cz rtt_tools.dump_data[140635] INFO Loading all variants params, len: 1000\n",
      "2019-07-18 13:44:50 aura.fi.muni.cz rtt_tools.dump_data[140635] INFO Loading all variant params, len: 2000\n",
      "2019-07-18 13:44:50 aura.fi.muni.cz rtt_tools.dump_data[140635] INFO Loading all variants params, len: 112\n",
      "2019-07-18 13:44:50 aura.fi.muni.cz rtt_tools.dump_data[140635] INFO Loading all variant params, len: 1566\n",
      "2019-07-18 13:44:51 aura.fi.muni.cz rtt_tools.dump_data[140635] INFO Loading all subtest params, len: 8986\n",
      "2019-07-18 13:44:51 aura.fi.muni.cz rtt_tools.dump_data[140635] INFO Loading all subtest pvalues, len: 8986\n",
      "2019-07-18 13:45:12 aura.fi.muni.cz rtt_tools.dump_data[140635] INFO Loading all subtest stats, len: 8986\n",
      "2019-07-18 13:45:12 aura.fi.muni.cz rtt_tools.dump_data[140635] INFO Time finished: 368.0480875968933\n",
      "2019-07-18 13:45:12 aura.fi.muni.cz rtt_tools.dump_data[140635] INFO Num experiments: 644\n",
      "2019-07-18 13:45:12 aura.fi.muni.cz rtt_tools.dump_data[140635] INFO Num batteries: 4508\n",
      "2019-07-18 13:45:12 aura.fi.muni.cz rtt_tools.dump_data[140635] INFO Num tests: 41112\n",
      "2019-07-18 13:45:12 aura.fi.muni.cz rtt_tools.dump_data[140635] INFO Num stests: 228986\n",
      "2019-07-18 13:45:12 aura.fi.muni.cz rtt_tools.dump_data[140635] INFO Queues: (0, 0, 0)\n",
      "2019-07-18 13:45:12 aura.fi.muni.cz rtt_tools.export[140635] INFO Processing the results\n",
      "2019-07-18 13:45:15 aura.fi.muni.cz rtt_tools.export[140635] INFO Exporting to the required data format\n",
      "2019-07-18 13:45:27 aura.fi.muni.cz rtt_tools.export[140635] INFO Dumping to json to: rtt-results-dump-19-20-21.json\n"
     ]
    },
    {
     "name": "stdout",
     "output_type": "stream",
     "text": [
      "/tmp/rtt-results-dump-19-20-21.json\n"
     ]
    }
   ],
   "source": [
    "exporter.load({'no_pvals':False, 'only_pval_cnt': False, 'experiments': exp_id_list})\n",
    "exporter.export(base_path='/tmp')\n",
    "print(exporter.fname)\n"
   ]
  },
  {
   "cell_type": "code",
   "execution_count": null,
   "metadata": {},
   "outputs": [],
   "source": []
  }
 ],
 "metadata": {
  "kernelspec": {
   "display_name": "Python 3",
   "language": "python",
   "name": "python3"
  },
  "language_info": {
   "codemirror_mode": {
    "name": "ipython",
    "version": 3
   },
   "file_extension": ".py",
   "mimetype": "text/x-python",
   "name": "python",
   "nbconvert_exporter": "python",
   "pygments_lexer": "ipython3",
   "version": "3.6.5"
  },
  "pycharm": {
   "stem_cell": {
    "cell_type": "raw",
    "metadata": {
     "collapsed": false
    },
    "source": []
   }
  }
 },
 "nbformat": 4,
 "nbformat_minor": 2
}
