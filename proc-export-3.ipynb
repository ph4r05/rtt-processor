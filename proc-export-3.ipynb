{
 "cells": [
  {
   "cell_type": "code",
   "execution_count": null,
   "metadata": {
    "pycharm": {
     "name": "#%%\n"
    }
   },
   "outputs": [],
   "source": [
    "from rtt_tools import dump_data\n",
    "from rtt_tools.dump_data import *  # pussy died because of this wildcard import\n",
    "from rtt_tools.export import *\n",
    "\n",
    "logger = logging.getLogger(__name__)\n",
    "coloredlogs.CHROOT_FILES = []\n",
    "coloredlogs.install(level=logging.INFO, use_chroot=False)"
   ]
  },
  {
   "cell_type": "code",
   "execution_count": null,
   "metadata": {
    "pycharm": {
     "name": "#%%\n"
    }
   },
   "outputs": [],
   "source": [
    "loader = dump_data.Loader()\n",
    "loader.thr_stest_load = 3000\n",
    "exporter = Exporter(loader)"
   ]
  },
  {
   "cell_type": "code",
   "execution_count": null,
   "metadata": {
    "pycharm": {
     "name": "#%%\n"
    }
   },
   "outputs": [],
   "source": [
    "exp_id_list = list(range(284654, 323197+1))\n",
    "#exp_id_list = list(range(301403, 301403+100))"
   ]
  },
  {
   "cell_type": "code",
   "execution_count": null,
   "metadata": {
    "pycharm": {
     "name": "#%%\n"
    }
   },
   "outputs": [],
   "source": [
    "exporter.load({'no_pvals':False, 'only_pval_cnt': True, \n",
    "               'experiment_ids': exp_id_list, \n",
    "               'is_secmargins':0,\n",
    "               'is_ph4_sm': 1,\n",
    "               'is_ph4_mpc': 1,\n",
    "              }) #  'experiments': exp_id_list})\n",
    "\n",
    "exporter.export(base_path='/tmp', fname='rtt-results-full9.json')\n",
    "print(exporter.fname)\n"
   ]
  },
  {
   "cell_type": "code",
   "execution_count": null,
   "metadata": {},
   "outputs": [],
   "source": [
    "# More experiments, not reloading old ones\n",
    "exp_id_list = list(range(323197, 324623+1))\n",
    "\n",
    "loader = dump_data.Loader()\n",
    "loader.thr_stest_load = 3000\n",
    "exporter = Exporter(loader)\n",
    "exporter.load({'no_pvals':False, 'only_pval_cnt': True, \n",
    "               'experiment_ids': exp_id_list, \n",
    "               'is_secmargins':0,\n",
    "               'is_ph4_sm': 1,\n",
    "               'is_ph4_mpc': 1,\n",
    "              }) #  'experiments': exp_id_list})\n",
    "\n",
    "exporter.export(base_path='/tmp', fname='rtt-results-full9-ext01.json')\n",
    "print(exporter.fname)"
   ]
  },
  {
   "cell_type": "code",
   "execution_count": null,
   "metadata": {},
   "outputs": [],
   "source": [
    "ex_start = 260259\n",
    "ex_end = ex_start + 2000\n",
    "ex_step = 100\n",
    "\n",
    "for exr in range(ex_start, ex_end, ex_step):\n",
    "    loader = dump_data.Loader()\n",
    "    loader.thr_stest_load = 3000\n",
    "    exporter = Exporter(loader)\n",
    "    exp_id_list = list(range(exr, exr + ex_step))\n",
    "    \n",
    "    exporter.load({'no_pvals':False, 'only_pval_cnt': False, 'experiment_ids': exp_id_list, 'is_secmargins':0}) #  'experiments': exp_id_list})\n",
    "    exporter.export(base_path='/tmp', fname='rtt-results-syso-diehgarder-t05-t06-%s.json' % (exr,))\n",
    "    print(exporter.fname)\n",
    "    "
   ]
  },
  {
   "cell_type": "code",
   "execution_count": null,
   "metadata": {},
   "outputs": [],
   "source": [
    "exr = 283466\n",
    "loader = dump_data.Loader()\n",
    "loader.thr_stest_load = 200\n",
    "exporter = Exporter(loader)\n",
    "exp_id_list = list(range(exr, 284515+1))\n",
    "\n",
    "exporter.load({'no_pvals':False, 'only_pval_cnt': False, 'experiment_ids': exp_id_list, 'is_secmargins':0}) #  'experiments': exp_id_list})\n",
    "exporter.export(base_path='/var/tmp/xklinec', fname='rtt-results-syso-diehgarder-t10-aes-nist-stdconf-%s.json' % (exr,))\n",
    "print(exporter.fname)"
   ]
  },
  {
   "cell_type": "code",
   "execution_count": null,
   "metadata": {},
   "outputs": [],
   "source": []
  }
 ],
 "metadata": {
  "kernelspec": {
   "display_name": "Python 3",
   "language": "python",
   "name": "python3"
  },
  "language_info": {
   "codemirror_mode": {
    "name": "ipython",
    "version": 3
   },
   "file_extension": ".py",
   "mimetype": "text/x-python",
   "name": "python",
   "nbconvert_exporter": "python",
   "pygments_lexer": "ipython3",
   "version": "3.7.3"
  },
  "pycharm": {
   "stem_cell": {
    "cell_type": "raw",
    "metadata": {
     "collapsed": false
    },
    "source": []
   }
  }
 },
 "nbformat": 4,
 "nbformat_minor": 2
}
